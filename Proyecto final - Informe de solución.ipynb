{
 "cells": [
  {
   "cell_type": "markdown",
   "metadata": {},
   "source": [
    "# Proyecto Final - Informe de Solución\n",
    "\n",
    "Este informe detalla el proceso, los desafíos y los resultados obtenidos en la creación de un modelo para predecir la tasa de cancelación de clientes para el operador de telecomunicaciones Interconnect.\n",
    "\n",
    "## Pasos del Plan de Trabajo: Realización y Omisiones\n",
    "\n",
    "El plan original constaba de cuatro pasos clave. Todos los pasos del plan se realizaron y ninguno se omitió, ya que cada uno era fundamental para el éxito del proyecto.\n",
    "\n",
    "1.  Preprocesamiento y Limpieza de Datos: Se ejecutó completamente. Unimos las cuatro fuentes de datos, manejamos los valores nulos (que indicaban la no contratación de un servicio), convertimos los tipos de datos y creamos la característica tenure (antigüedad del cliente), que fue crucial para el modelo.\n",
    "2.  Ingeniería y Selección de Características: Se realizó este paso. Identificamos las variables numéricas y categóricas para aplicarles las transformaciones adecuadas (escalado y codificación one-hot) dentro de los pipelines de los modelos.\n",
    "3.  Entrenamiento y Evaluación de Modelos: Se entrenaron los dos modelos propuestos: una Regresión Logística como línea base y un CatBoost Classifier como modelo avanzado. Ambos fueron evaluados usando las métricas AUC-ROC y Accuracy.\n",
    "4.  Ajuste Fino y Selección del Modelo Final: Este paso se volvió especialmente importante. Tras una primera evaluación, el modelo CatBoost no superaba a la Regresión Logística, por lo que se procedió con un ajuste fino de hiperparámetros para optimizar su rendimiento.\n",
    "\n",
    "## Dificultades Encontradas y Soluciones\n",
    "\n",
    "La principal dificultad fue que, en la primera ronda de entrenamiento, el modelo CatBoost (AUC-ROC: 0.837), teóricamente más potente, obtuvo un resultado inferior al de la Regresión Logística (AUC-ROC: 0.846). Esto indicaba que la configuración por defecto del modelo CatBoost no era la adecuada y probablemente estaba sufriendo de sobreajuste o no lograba generalizar correctamente.\n",
    "\n",
    "Solución:\n",
    "Para resolver esto, implementé un proceso de ajuste de hiperparámetros utilizando GridSearchCV. Esta técnica nos permitió probar de manera sistemática múltiples combinaciones de los parámetros más influyentes del modelo, como iterations, learning_rate y depth. Al usar validación cruzada, nos aseguramos de que la combinación elegida fuera la que mejor generalizaba para datos no vistos. Este proceso fue clave para desbloquear el verdadero potencial del modelo CatBoost.\n",
    "\n",
    "## Pasos Clave para Resolver la Tarea\n",
    "\n",
    "1.  Creación de la Característica tenure (Antigüedad): El paso más importante en la preparación de datos fue calcular cuánto tiempo llevaba un cliente en la compañía. Esta característica resultó ser uno de los predictores más potentes de la cancelación, ya que la lealtad a largo plazo suele ser un buen indicador de retención.\n",
    "2.  Correcta Interpretación de los Datos Nulos: Entender que los valores nulos en las columnas de servicios no eran errores, sino que representaban a clientes que no tenían contratado un servicio específico (como internet o múltiples líneas telefónicas), fue fundamental. Rellenarlos con la categoría 'No' en lugar de eliminarlos nos permitió conservar información valiosa para el modelo.\n",
    "3.  Optimización de Hiperparámetros: Como se mencionó anteriormente, el ajuste fino del modelo CatBoost fue el paso decisivo que marcó la diferencia. Pasar de un AUC-ROC de 0.837 a 0.849 no solo nos permitió superar a nuestro modelo base, sino que también nos acercó a un nivel de calidad superior según los criterios del proyecto.\n",
    "\n",
    "## Modelo Final y Nivel de Calidad\n",
    "\n",
    "Mi modelo final es el CatBoost Optimizado.\n",
    "\n",
    "Después del proceso de ajuste de hiperparámetros, este modelo logró un rendimiento superior en la métrica principal.\n",
    "\n",
    "Calidad del Modelo Final:\n",
    "* AUC-ROC: 0.8489\n",
    "* Accuracy: 0.8007\n",
    "\n",
    "De acuerdo con los criterios de evaluación del proyecto, un valor de AUC-ROC entre 0.81 y 0.85 corresponde a un nivel de calidad de 4.5 SP. Esto confirma que el modelo es robusto y tiene una buena capacidad predictiva para resolver el problema de negocio planteado por Interconnect."
   ]
  }
 ],
 "metadata": {
  "kernelspec": {
   "display_name": "Python 3 (ipykernel)",
   "language": "python",
   "name": "python3"
  },
  "language_info": {
   "codemirror_mode": {
    "name": "ipython",
    "version": 3
   },
   "file_extension": ".py",
   "mimetype": "text/x-python",
   "name": "python",
   "nbconvert_exporter": "python",
   "pygments_lexer": "ipython3",
   "version": "3.9.23"
  }
 },
 "nbformat": 4,
 "nbformat_minor": 4
}
